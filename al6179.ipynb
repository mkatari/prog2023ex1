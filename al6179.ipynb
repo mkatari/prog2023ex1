{
 "cells": [
  {
   "cell_type": "code",
   "execution_count": 1,
   "metadata": {},
   "outputs": [
    {
     "name": "stdout",
     "output_type": "stream",
     "text": [
      "[4, 6]\n"
     ]
    }
   ],
   "source": [
    "# Write a function that takes two lists representing sets (with no duplicates) which returns a list of the intersection.\n",
    "# (use only loops and sequence indexing with no method calls except append).\n",
    "# Use a nested loop in your implementation. Test on the list A = [2, 4, 5, 6] and B = [4, 6, 7, 8].\n",
    "\n",
    "def intersection(A, B):\n",
    "    result = []\n",
    "    for a in A:\n",
    "        for b in B:\n",
    "            if a == b:\n",
    "                result.append(a)\n",
    "    return result\n",
    "\n",
    "A = [2, 4, 5, 6]\n",
    "B = [4, 6, 7, 8]\n",
    "\n",
    "print(intersection(A, B))\n",
    "\n"
   ]
  }
 ],
 "metadata": {
  "kernelspec": {
   "display_name": "Python 3",
   "language": "python",
   "name": "python3"
  },
  "language_info": {
   "codemirror_mode": {
    "name": "ipython",
    "version": 3
   },
   "file_extension": ".py",
   "mimetype": "text/x-python",
   "name": "python",
   "nbconvert_exporter": "python",
   "pygments_lexer": "ipython3",
   "version": "3.9.6"
  }
 },
 "nbformat": 4,
 "nbformat_minor": 2
}
