{
  "nbformat": 4,
  "nbformat_minor": 0,
  "metadata": {
    "colab": {
      "provenance": [],
      "authorship_tag": "ABX9TyNOSbgq6q84K+uRzRGcutK8",
      "include_colab_link": true
    },
    "kernelspec": {
      "name": "python3",
      "display_name": "Python 3"
    },
    "language_info": {
      "name": "python"
    }
  },
  "cells": [
    {
      "cell_type": "markdown",
      "metadata": {
        "id": "view-in-github",
        "colab_type": "text"
      },
      "source": [
        "<a href=\"https://colab.research.google.com/github/rp3390/prog2023ex1/blob/main/rp3390.ipynb\" target=\"_parent\"><img src=\"https://colab.research.google.com/assets/colab-badge.svg\" alt=\"Open In Colab\"/></a>"
      ]
    },
    {
      "cell_type": "code",
      "execution_count": 3,
      "metadata": {
        "colab": {
          "base_uri": "https://localhost:8080/"
        },
        "id": "MueGOpSSfFKf",
        "outputId": "c1598293-7356-4789-9f66-5164928bf12f"
      },
      "outputs": [
        {
          "output_type": "stream",
          "name": "stdout",
          "text": [
            "[4, 6]\n"
          ]
        }
      ],
      "source": [
        "def intersection(A, B):\n",
        "    intersectionList = []\n",
        "    for i in A:\n",
        "        for j in B:\n",
        "            if i == j:\n",
        "                intersectionList.append(i)\n",
        "    return intersectionList\n",
        "\n",
        "A = [2, 4, 5, 6]\n",
        "B = [4, 6, 7, 8]\n",
        "print(intersection(A, B))"
      ]
    }
  ]
}