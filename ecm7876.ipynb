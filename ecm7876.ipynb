{
 "cells": [
  {
   "cell_type": "raw",
   "id": "1769dcb0-676b-41fc-be90-0dad8f05d51e",
   "metadata": {},
   "source": [
    "ecm7876"
   ]
  },
  {
   "cell_type": "code",
   "execution_count": 2,
   "id": "c9140adc-cf92-4932-83e9-96c71b424d08",
   "metadata": {
    "tags": []
   },
   "outputs": [],
   "source": [
    "def intersection (list1, list2): \n",
    "    result =[]\n",
    "    for item1 in list1:\n",
    "        for item2 in list2:\n",
    "            if item1 == item2:\n",
    "                result.append(item1)\n",
    "                break\n",
    "    return result"
   ]
  },
  {
   "cell_type": "code",
   "execution_count": 3,
   "id": "7a799440-96cf-4e8c-bf9a-e3d2cfca8143",
   "metadata": {
    "tags": []
   },
   "outputs": [
    {
     "name": "stdout",
     "output_type": "stream",
     "text": [
      "[4, 6]\n"
     ]
    }
   ],
   "source": [
    "A = [2, 4, 5, 6]\n",
    "B = [4, 6, 7, 8]\n",
    "result_intersection = intersection(A, B)\n",
    "print(result_intersection)"
   ]
  }
 ],
 "metadata": {
  "kernelspec": {
   "display_name": "Python 3 (ipykernel)",
   "language": "python",
   "name": "python3"
  },
  "language_info": {
   "codemirror_mode": {
    "name": "ipython",
    "version": 3
   },
   "file_extension": ".py",
   "mimetype": "text/x-python",
   "name": "python",
   "nbconvert_exporter": "python",
   "pygments_lexer": "ipython3",
   "version": "3.11.4"
  }
 },
 "nbformat": 4,
 "nbformat_minor": 5
}
