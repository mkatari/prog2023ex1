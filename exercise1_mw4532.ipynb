{
  "nbformat": 4,
  "nbformat_minor": 0,
  "metadata": {
    "colab": {
      "provenance": []
    },
    "kernelspec": {
      "name": "python3",
      "display_name": "Python 3"
    },
    "language_info": {
      "name": "python"
    }
  },
  "cells": [
    {
      "cell_type": "code",
      "execution_count": 9,
      "metadata": {
        "colab": {
          "base_uri": "https://localhost:8080/"
        },
        "id": "-WCR_FC1nqee",
        "outputId": "5f7d7062-95dc-41f3-d7bd-4a71c1af5fe6"
      },
      "outputs": [
        {
          "output_type": "execute_result",
          "data": {
            "text/plain": [
              "[4, 6]"
            ]
          },
          "metadata": {},
          "execution_count": 9
        }
      ],
      "source": [
        "def intersection(A, B):\n",
        "    intersection = []\n",
        "    for element in A:\n",
        "        for another_element in B:\n",
        "            if element == another_element:\n",
        "                intersection.append(element)\n",
        "                break\n",
        "    return intersection\n",
        "#test\n",
        "A = [2, 4, 5, 6]\n",
        "B = [4, 6, 7, 8]\n",
        "\n",
        "intersection(A, B)\n"
      ]
    }
  ]
}