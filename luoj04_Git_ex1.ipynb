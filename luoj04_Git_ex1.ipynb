{
  "nbformat": 4,
  "nbformat_minor": 0,
  "metadata": {
    "colab": {
      "provenance": []
    },
    "kernelspec": {
      "name": "python3",
      "display_name": "Python 3"
    },
    "language_info": {
      "name": "python"
    }
  },
  "cells": [
    {
      "cell_type": "code",
      "execution_count": null,
      "metadata": {
        "id": "DKda3W-0ikpQ"
      },
      "outputs": [],
      "source": [
        "# Write a function that takes two lists representing sets (with no duplicates) which returns a list of the intersection.\n",
        "# (use only loops and sequence indexing with no method calls except append).\n",
        "# Use a nested loop in your implementation. Test on the list A = [2, 4, 5, 6] and B = [4, 6, 7, 8]."
      ]
    },
    {
      "cell_type": "code",
      "source": [
        "def intersection(a, b):\n",
        "    intersect = []\n",
        "    for valueA in a:\n",
        "      for valueB in b:\n",
        "        if valueA == valueB:\n",
        "          intersect.append(valueA)\n",
        "    return(intersect)"
      ],
      "metadata": {
        "id": "xFMa08dTiwjs"
      },
      "execution_count": 8,
      "outputs": []
    },
    {
      "cell_type": "code",
      "source": [
        "A = [2,4,5,6]\n",
        "B = [4,6,7,8]\n"
      ],
      "metadata": {
        "id": "F24LBZM8jIiF"
      },
      "execution_count": 2,
      "outputs": []
    },
    {
      "cell_type": "code",
      "source": [
        "intersection(A, B)"
      ],
      "metadata": {
        "colab": {
          "base_uri": "https://localhost:8080/"
        },
        "id": "knA7aiQUjN4R",
        "outputId": "7ba81e02-e6fa-4523-a33f-61bcf0c15b55"
      },
      "execution_count": 9,
      "outputs": [
        {
          "output_type": "execute_result",
          "data": {
            "text/plain": [
              "[4, 6]"
            ]
          },
          "metadata": {},
          "execution_count": 9
        }
      ]
    }
  ]
}