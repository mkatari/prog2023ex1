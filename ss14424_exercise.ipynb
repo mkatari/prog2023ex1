{
  "nbformat": 4,
  "nbformat_minor": 0,
  "metadata": {
    "colab": {
      "provenance": []
    },
    "kernelspec": {
      "name": "python3",
      "display_name": "Python 3"
    },
    "language_info": {
      "name": "python"
    }
  },
  "cells": [
    {
      "cell_type": "code",
      "execution_count": 7,
      "metadata": {
        "colab": {
          "base_uri": "https://localhost:8080/"
        },
        "id": "0iNCPLjziv42",
        "outputId": "a52a342c-76ff-489e-ba1e-9fbe8ba65b50"
      },
      "outputs": [
        {
          "output_type": "stream",
          "name": "stdout",
          "text": [
            "[4, 6]\n"
          ]
        }
      ],
      "source": [
        "# Write a function that takes two lists representing sets (with no duplicates) which returns a list of the intersection.\n",
        "# (use only loops and sequence indexing with no method calls except append).\n",
        "# Use a nested loop in your implementation. Test on the list A = [2, 4, 5, 6] and B = [4, 6, 7, 8].\n",
        "\n",
        "def combiner(A,B):\n",
        "\n",
        "  combine = []\n",
        "  for i in range(0, len(A)):\n",
        "    for j in range(0, len(B)):\n",
        "      if A[i] == B[j]:\n",
        "        combine.append(A[i])\n",
        "\n",
        "  return combine\n",
        "\n",
        "A = [2, 4, 5, 6]\n",
        "B = [4, 6, 7, 8]\n",
        "print(combiner(A,B))\n"
      ]
    }
  ]
}