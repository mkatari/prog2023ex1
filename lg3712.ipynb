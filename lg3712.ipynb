{
  "nbformat": 4,
  "nbformat_minor": 0,
  "metadata": {
    "colab": {
      "provenance": []
    },
    "kernelspec": {
      "name": "python3",
      "display_name": "Python 3"
    },
    "language_info": {
      "name": "python"
    }
  },
  "cells": [
    {
      "cell_type": "code",
      "execution_count": 2,
      "metadata": {
        "id": "4dNdMKL6iuMN",
        "colab": {
          "base_uri": "https://localhost:8080/"
        },
        "outputId": "be81ec99-8a8b-40ba-a2ed-f6b0e5ffc919"
      },
      "outputs": [
        {
          "output_type": "stream",
          "name": "stdout",
          "text": [
            "[4, 6]\n"
          ]
        }
      ],
      "source": [
        "# Write a function that takes two lists representing sets (with no duplicates) which returns a list of the intersection.\n",
        "# (use only loops and sequence indexing with no method calls except append).\n",
        "# Use a nested loop in your implementation. Test on the list A = [2, 4, 5, 6] and B = [4, 6, 7, 8].\n",
        "\n",
        "def new_func(setA, setB):\n",
        "  results = []\n",
        "\n",
        "  for i in setA:\n",
        "    for h in setB:\n",
        "      if i == h:\n",
        "        results.append(i)\n",
        "\n",
        "  return results\n",
        "\n",
        "A = [2,4,5,6]\n",
        "B = [4,6,7,8]\n",
        "\n",
        "new_results = new_func(A, B)\n",
        "print(new_results)\n"
      ]
    }
  ]
}