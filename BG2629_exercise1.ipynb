{
  "nbformat": 4,
  "nbformat_minor": 0,
  "metadata": {
    "colab": {
      "provenance": []
    },
    "kernelspec": {
      "name": "python3",
      "display_name": "Python 3"
    },
    "language_info": {
      "name": "python"
    }
  },
  "cells": [
    {
      "cell_type": "code",
      "execution_count": 2,
      "metadata": {
        "colab": {
          "base_uri": "https://localhost:8080/"
        },
        "id": "7JTV2S3uinHT",
        "outputId": "65385b4c-2e5b-46e4-abf3-e2c80ffd1cfb"
      },
      "outputs": [
        {
          "output_type": "execute_result",
          "data": {
            "text/plain": [
              "[4, 6]"
            ]
          },
          "metadata": {},
          "execution_count": 2
        }
      ],
      "source": [
        "A = [2, 4, 5, 6]\n",
        "B = [4, 6, 7, 8]\n",
        "C = []\n",
        "for i in A:\n",
        "  if i in B:\n",
        "    C.append(i)\n",
        "\n",
        "C"
      ]
    }
  ]
}