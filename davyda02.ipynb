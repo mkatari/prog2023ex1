{
  "nbformat": 4,
  "nbformat_minor": 0,
  "metadata": {
    "colab": {
      "provenance": []
    },
    "kernelspec": {
      "name": "python3",
      "display_name": "Python 3"
    },
    "language_info": {
      "name": "python"
    }
  },
  "cells": [
    {
      "cell_type": "code",
      "execution_count": 12,
      "metadata": {
        "colab": {
          "base_uri": "https://localhost:8080/"
        },
        "id": "3GjQh5j4ipeH",
        "outputId": "0151477c-ddf7-4250-cc42-141b7829f8af"
      },
      "outputs": [
        {
          "output_type": "execute_result",
          "data": {
            "text/plain": [
              "[4, 6]"
            ]
          },
          "metadata": {},
          "execution_count": 12
        }
      ],
      "source": [
        "# Write a function that takes two lists representing sets (with no duplicates) which returns a list of the intersection.\n",
        "# (use only loops and sequence indexing with no method calls except append).\n",
        "# Use a nested loop in your implementation. Test on the list A = [2, 4, 5, 6] and B = [4, 6, 7, 8].\n",
        "\n",
        "A = [2, 4, 5, 6]\n",
        "B = [4, 6, 7, 8]\n",
        "\n",
        "def intersection(A,B):\n",
        "  return list(set(A) & set(B))\n",
        "\n",
        "intersection(A,B)"
      ]
    },
    {
      "cell_type": "code",
      "source": [],
      "metadata": {
        "id": "gBZP3wQ0je_5"
      },
      "execution_count": null,
      "outputs": []
    }
  ]
}